{
 "cells": [
  {
   "cell_type": "code",
   "execution_count": 1,
   "metadata": {},
   "outputs": [],
   "source": [
    "import sys\n",
    "code_path = '/Users/caiq/Workspace/adp/text-classifier/src'\n",
    "sys.path.append(code_path)"
   ]
  },
  {
   "cell_type": "code",
   "execution_count": 4,
   "metadata": {},
   "outputs": [],
   "source": [
    "import os\n",
    "import torch\n",
    "import logging\n",
    "from dataloader.data_loader import load_data\n",
    "from textclassifier.text_tester import test\n",
    "from textclassifier.text_trainer import set_trainer\n",
    "from utils.commons import load_checkpoint\n",
    "from utils.opts import Config, parse_opt, load_config\n",
    "from dataloader import run_sent_prepro\n",
    "\n",
    "device = torch.device(\"cuda\" if torch.cuda.is_available() else \"cpu\")\n",
    "\n",
    "logging.basicConfig(format=\"%(filename)s: %(message)s\")\n",
    "logger = logging.getLogger()\n",
    "logger.setLevel(logging.INFO)\n",
    "logger.propagate = False"
   ]
  },
  {
   "cell_type": "markdown",
   "metadata": {},
   "source": [
    "## Load Configuration"
   ]
  },
  {
   "cell_type": "code",
   "execution_count": 6,
   "metadata": {},
   "outputs": [
    {
     "name": "stderr",
     "output_type": "stream",
     "text": [
      "<ipython-input-6-7acea5760ccd>: Parsing configuration file ...\n",
      "<ipython-input-6-7acea5760ccd>: Preprocessing data ...\n"
     ]
    },
    {
     "name": "stdout",
     "output_type": "stream",
     "text": [
      "\n",
      "Training data: reading and preprocessing...\n",
      "\n"
     ]
    },
    {
     "name": "stderr",
     "output_type": "stream",
     "text": [
      "100%|██████████| 86137/86137 [00:21<00:00, 3967.39it/s]\n"
     ]
    },
    {
     "name": "stdout",
     "output_type": "stream",
     "text": [
      "\n",
      "Training data: discarding words with counts less than 5, the size of the vocabulary is 9562.\n",
      "\n",
      "Training data: word map saved to /Users/caiq/Workspace/adp/text-classifier/data/outputs/cr_sents/sents.\n",
      "\n",
      "Training data: encoding and padding...\n",
      "\n",
      "Training data: saving...\n",
      "\n",
      "Training data: encoded, padded data saved to /Users/caiq/Workspace/adp/text-classifier/data/outputs/cr_sents/sents.\n",
      "\n",
      "Test data: reading and preprocessing...\n",
      "\n"
     ]
    },
    {
     "name": "stderr",
     "output_type": "stream",
     "text": [
      "100%|██████████| 21534/21534 [00:05<00:00, 3771.91it/s]\n"
     ]
    },
    {
     "name": "stdout",
     "output_type": "stream",
     "text": [
      "\n",
      "Test data: encoding and padding...\n",
      "\n",
      "Test data: saving...\n",
      "\n",
      "Test data: encoded, padded data saved to /Users/caiq/Workspace/adp/text-classifier/data/outputs/cr_sents/sents.\n",
      "\n",
      "All done!\n",
      "\n"
     ]
    }
   ],
   "source": [
    "logger.info('Parsing configuration file ...')\n",
    "config_dict = load_config('/Users/caiq/Workspace/adp/text-classifier/config/cr_sents/textmlp.yaml')\n",
    "config = Config(config_dict)"
   ]
  },
  {
   "cell_type": "markdown",
   "metadata": {},
   "source": [
    "## Preprocessing"
   ]
  },
  {
   "cell_type": "code",
   "execution_count": 7,
   "metadata": {},
   "outputs": [
    {
     "name": "stderr",
     "output_type": "stream",
     "text": [
      "<ipython-input-7-d758ed94befd>: Preprocessing data ...\n"
     ]
    },
    {
     "name": "stdout",
     "output_type": "stream",
     "text": [
      "\n",
      "Training data: reading and preprocessing...\n",
      "\n"
     ]
    },
    {
     "name": "stderr",
     "output_type": "stream",
     "text": [
      "100%|██████████| 86137/86137 [00:24<00:00, 3583.27it/s]\n"
     ]
    },
    {
     "name": "stdout",
     "output_type": "stream",
     "text": [
      "\n",
      "Training data: discarding words with counts less than 5, the size of the vocabulary is 9562.\n",
      "\n",
      "Training data: word map saved to /Users/caiq/Workspace/adp/text-classifier/data/outputs/cr_sents/sents.\n",
      "\n",
      "Training data: encoding and padding...\n",
      "\n",
      "Training data: saving...\n",
      "\n",
      "Training data: encoded, padded data saved to /Users/caiq/Workspace/adp/text-classifier/data/outputs/cr_sents/sents.\n",
      "\n",
      "Test data: reading and preprocessing...\n",
      "\n"
     ]
    },
    {
     "name": "stderr",
     "output_type": "stream",
     "text": [
      "100%|██████████| 21534/21534 [00:06<00:00, 3523.73it/s]\n"
     ]
    },
    {
     "name": "stdout",
     "output_type": "stream",
     "text": [
      "\n",
      "Test data: encoding and padding...\n",
      "\n",
      "Test data: saving...\n",
      "\n",
      "Test data: encoded, padded data saved to /Users/caiq/Workspace/adp/text-classifier/data/outputs/cr_sents/sents.\n",
      "\n",
      "All done!\n",
      "\n"
     ]
    }
   ],
   "source": [
    "logger.info('Preprocessing data ...')\n",
    "run_sent_prepro(\n",
    "    csv_folder=config.dataset_path,\n",
    "    output_folder=config.output_path,\n",
    "    word_limit=config.word_limit,\n",
    "    min_word_count=config.min_word_count\n",
    ")"
   ]
  },
  {
   "cell_type": "markdown",
   "metadata": {},
   "source": [
    "## Training"
   ]
  },
  {
   "cell_type": "code",
   "execution_count": 9,
   "metadata": {},
   "outputs": [
    {
     "name": "stdout",
     "output_type": "stream",
     "text": [
      "Loading embeddings from /Users/caiq/Workspace/adp/text-classifier/data/outputs/cr_sents/sents/glove.6B.50d.txt.pth.tar\n",
      "Epoch: [0][0/1346]\tBatch Time 0.604 (0.604)\tData Load Time 0.537 (0.537)\tLoss 1.3829 (1.3829)\tAccuracy 0.312 (0.312)\n",
      "Epoch: [0][100/1346]\tBatch Time 0.023 (0.027)\tData Load Time 0.001 (0.006)\tLoss 1.1706 (1.2910)\tAccuracy 0.406 (0.367)\n",
      "Epoch: [0][200/1346]\tBatch Time 0.022 (0.024)\tData Load Time 0.001 (0.003)\tLoss 1.1289 (1.2602)\tAccuracy 0.422 (0.394)\n",
      "Epoch: [0][300/1346]\tBatch Time 0.022 (0.023)\tData Load Time 0.001 (0.002)\tLoss 1.2095 (1.2427)\tAccuracy 0.594 (0.428)\n",
      "Epoch: [0][400/1346]\tBatch Time 0.019 (0.023)\tData Load Time 0.001 (0.002)\tLoss 1.1431 (1.2266)\tAccuracy 0.656 (0.457)\n",
      "Epoch: [0][500/1346]\tBatch Time 0.021 (0.023)\tData Load Time 0.001 (0.002)\tLoss 1.1038 (1.2098)\tAccuracy 0.609 (0.481)\n",
      "Epoch: [0][600/1346]\tBatch Time 0.020 (0.022)\tData Load Time 0.001 (0.002)\tLoss 0.9927 (1.1867)\tAccuracy 0.672 (0.503)\n",
      "Epoch: [0][700/1346]\tBatch Time 0.023 (0.022)\tData Load Time 0.001 (0.001)\tLoss 0.9377 (1.1630)\tAccuracy 0.656 (0.519)\n",
      "Epoch: [0][800/1346]\tBatch Time 0.020 (0.022)\tData Load Time 0.001 (0.001)\tLoss 0.8819 (1.1372)\tAccuracy 0.641 (0.534)\n",
      "Epoch: [0][900/1346]\tBatch Time 0.023 (0.022)\tData Load Time 0.001 (0.001)\tLoss 0.8558 (1.1146)\tAccuracy 0.703 (0.547)\n",
      "Epoch: [0][1000/1346]\tBatch Time 0.020 (0.022)\tData Load Time 0.001 (0.001)\tLoss 0.8381 (1.0929)\tAccuracy 0.688 (0.559)\n",
      "Epoch: [0][1100/1346]\tBatch Time 0.024 (0.022)\tData Load Time 0.001 (0.001)\tLoss 0.7829 (1.0726)\tAccuracy 0.703 (0.570)\n",
      "Epoch: [0][1200/1346]\tBatch Time 0.021 (0.022)\tData Load Time 0.001 (0.001)\tLoss 0.7808 (1.0527)\tAccuracy 0.641 (0.580)\n",
      "Epoch: [0][1300/1346]\tBatch Time 0.020 (0.022)\tData Load Time 0.001 (0.001)\tLoss 0.8576 (1.0336)\tAccuracy 0.703 (0.590)\n",
      "Epoch: [0] finished, time consumed: 29.595\n",
      "\n",
      "DECAYING learning rate.\n",
      "The new learning rate is 0.000900\n",
      "\n",
      "Epoch: [1][0/1346]\tBatch Time 0.107 (0.107)\tData Load Time 0.064 (0.064)\tLoss 0.7213 (0.7213)\tAccuracy 0.734 (0.734)\n",
      "Epoch: [1][100/1346]\tBatch Time 0.021 (0.023)\tData Load Time 0.001 (0.001)\tLoss 0.7770 (0.7465)\tAccuracy 0.703 (0.735)\n",
      "Epoch: [1][200/1346]\tBatch Time 0.022 (0.022)\tData Load Time 0.001 (0.001)\tLoss 0.6081 (0.7468)\tAccuracy 0.750 (0.738)\n",
      "Epoch: [1][300/1346]\tBatch Time 0.024 (0.022)\tData Load Time 0.001 (0.001)\tLoss 0.7566 (0.7311)\tAccuracy 0.781 (0.749)\n",
      "Epoch: [1][400/1346]\tBatch Time 0.022 (0.022)\tData Load Time 0.001 (0.001)\tLoss 0.5325 (0.7210)\tAccuracy 0.781 (0.753)\n",
      "Epoch: [1][500/1346]\tBatch Time 0.022 (0.022)\tData Load Time 0.001 (0.001)\tLoss 0.4129 (0.7106)\tAccuracy 0.922 (0.759)\n",
      "Epoch: [1][600/1346]\tBatch Time 0.022 (0.022)\tData Load Time 0.001 (0.001)\tLoss 0.5590 (0.6999)\tAccuracy 0.859 (0.763)\n",
      "Epoch: [1][700/1346]\tBatch Time 0.023 (0.022)\tData Load Time 0.001 (0.001)\tLoss 0.5368 (0.6905)\tAccuracy 0.875 (0.767)\n",
      "Epoch: [1][800/1346]\tBatch Time 0.021 (0.022)\tData Load Time 0.001 (0.001)\tLoss 0.5537 (0.6833)\tAccuracy 0.812 (0.771)\n",
      "Epoch: [1][900/1346]\tBatch Time 0.024 (0.022)\tData Load Time 0.001 (0.001)\tLoss 0.6998 (0.6767)\tAccuracy 0.734 (0.774)\n",
      "Epoch: [1][1000/1346]\tBatch Time 0.019 (0.022)\tData Load Time 0.001 (0.001)\tLoss 0.5509 (0.6684)\tAccuracy 0.797 (0.777)\n",
      "Epoch: [1][1100/1346]\tBatch Time 0.023 (0.022)\tData Load Time 0.001 (0.001)\tLoss 0.6300 (0.6645)\tAccuracy 0.828 (0.779)\n",
      "Epoch: [1][1200/1346]\tBatch Time 0.022 (0.022)\tData Load Time 0.001 (0.001)\tLoss 0.5500 (0.6591)\tAccuracy 0.812 (0.782)\n",
      "Epoch: [1][1300/1346]\tBatch Time 0.023 (0.022)\tData Load Time 0.001 (0.001)\tLoss 0.7899 (0.6551)\tAccuracy 0.859 (0.783)\n",
      "Epoch: [1] finished, time consumed: 59.508\n",
      "\n",
      "DECAYING learning rate.\n",
      "The new learning rate is 0.000810\n",
      "\n",
      "Epoch: [2][0/1346]\tBatch Time 0.109 (0.109)\tData Load Time 0.060 (0.060)\tLoss 0.7720 (0.7720)\tAccuracy 0.828 (0.828)\n",
      "Epoch: [2][100/1346]\tBatch Time 0.018 (0.022)\tData Load Time 0.001 (0.001)\tLoss 0.7246 (0.5888)\tAccuracy 0.734 (0.817)\n",
      "Epoch: [2][200/1346]\tBatch Time 0.022 (0.021)\tData Load Time 0.001 (0.001)\tLoss 0.4036 (0.5779)\tAccuracy 0.875 (0.817)\n",
      "Epoch: [2][300/1346]\tBatch Time 0.020 (0.021)\tData Load Time 0.001 (0.001)\tLoss 0.5660 (0.5757)\tAccuracy 0.828 (0.819)\n",
      "Epoch: [2][400/1346]\tBatch Time 0.022 (0.021)\tData Load Time 0.001 (0.001)\tLoss 0.4921 (0.5748)\tAccuracy 0.859 (0.820)\n",
      "Epoch: [2][500/1346]\tBatch Time 0.025 (0.021)\tData Load Time 0.001 (0.001)\tLoss 0.5180 (0.5732)\tAccuracy 0.812 (0.821)\n",
      "Epoch: [2][600/1346]\tBatch Time 0.021 (0.022)\tData Load Time 0.001 (0.001)\tLoss 0.8322 (0.5766)\tAccuracy 0.719 (0.820)\n",
      "Epoch: [2][700/1346]\tBatch Time 0.022 (0.022)\tData Load Time 0.001 (0.001)\tLoss 0.5851 (0.5777)\tAccuracy 0.828 (0.818)\n",
      "Epoch: [2][800/1346]\tBatch Time 0.021 (0.021)\tData Load Time 0.001 (0.001)\tLoss 0.5287 (0.5756)\tAccuracy 0.844 (0.819)\n",
      "Epoch: [2][900/1346]\tBatch Time 0.020 (0.021)\tData Load Time 0.001 (0.001)\tLoss 0.5145 (0.5742)\tAccuracy 0.812 (0.819)\n",
      "Epoch: [2][1000/1346]\tBatch Time 0.022 (0.021)\tData Load Time 0.001 (0.001)\tLoss 0.6930 (0.5734)\tAccuracy 0.797 (0.819)\n",
      "Epoch: [2][1100/1346]\tBatch Time 0.019 (0.021)\tData Load Time 0.001 (0.001)\tLoss 0.5661 (0.5717)\tAccuracy 0.766 (0.820)\n",
      "Epoch: [2][1200/1346]\tBatch Time 0.024 (0.021)\tData Load Time 0.001 (0.001)\tLoss 0.7205 (0.5706)\tAccuracy 0.781 (0.820)\n",
      "Epoch: [2][1300/1346]\tBatch Time 0.023 (0.021)\tData Load Time 0.001 (0.001)\tLoss 0.5546 (0.5698)\tAccuracy 0.828 (0.820)\n",
      "Epoch: [2] finished, time consumed: 88.575\n",
      "\n",
      "DECAYING learning rate.\n",
      "The new learning rate is 0.000729\n",
      "\n",
      "Epoch: [3][0/1346]\tBatch Time 0.100 (0.100)\tData Load Time 0.057 (0.057)\tLoss 0.5076 (0.5076)\tAccuracy 0.797 (0.797)\n",
      "Epoch: [3][100/1346]\tBatch Time 0.020 (0.023)\tData Load Time 0.001 (0.001)\tLoss 0.6116 (0.5248)\tAccuracy 0.812 (0.837)\n",
      "Epoch: [3][200/1346]\tBatch Time 0.019 (0.022)\tData Load Time 0.001 (0.001)\tLoss 0.3762 (0.5354)\tAccuracy 0.875 (0.828)\n",
      "Epoch: [3][300/1346]\tBatch Time 0.022 (0.022)\tData Load Time 0.001 (0.001)\tLoss 0.7050 (0.5400)\tAccuracy 0.781 (0.828)\n",
      "Epoch: [3][400/1346]\tBatch Time 0.028 (0.022)\tData Load Time 0.001 (0.001)\tLoss 0.4970 (0.5367)\tAccuracy 0.859 (0.831)\n",
      "Epoch: [3][500/1346]\tBatch Time 0.022 (0.022)\tData Load Time 0.001 (0.001)\tLoss 0.4711 (0.5388)\tAccuracy 0.859 (0.831)\n",
      "Epoch: [3][600/1346]\tBatch Time 0.019 (0.022)\tData Load Time 0.001 (0.001)\tLoss 0.4891 (0.5378)\tAccuracy 0.859 (0.831)\n",
      "Epoch: [3][700/1346]\tBatch Time 0.021 (0.022)\tData Load Time 0.001 (0.001)\tLoss 0.3344 (0.5414)\tAccuracy 0.922 (0.831)\n",
      "Epoch: [3][800/1346]\tBatch Time 0.018 (0.021)\tData Load Time 0.001 (0.001)\tLoss 0.5101 (0.5399)\tAccuracy 0.828 (0.831)\n",
      "Epoch: [3][900/1346]\tBatch Time 0.019 (0.021)\tData Load Time 0.001 (0.001)\tLoss 0.5179 (0.5397)\tAccuracy 0.812 (0.831)\n",
      "Epoch: [3][1000/1346]\tBatch Time 0.023 (0.022)\tData Load Time 0.001 (0.001)\tLoss 0.5579 (0.5397)\tAccuracy 0.812 (0.831)\n",
      "Epoch: [3][1100/1346]\tBatch Time 0.023 (0.022)\tData Load Time 0.001 (0.001)\tLoss 0.3917 (0.5401)\tAccuracy 0.859 (0.831)\n",
      "Epoch: [3][1200/1346]\tBatch Time 0.024 (0.022)\tData Load Time 0.001 (0.001)\tLoss 0.5819 (0.5379)\tAccuracy 0.812 (0.831)\n",
      "Epoch: [3][1300/1346]\tBatch Time 0.020 (0.021)\tData Load Time 0.001 (0.001)\tLoss 0.5507 (0.5392)\tAccuracy 0.875 (0.831)\n",
      "Epoch: [3] finished, time consumed: 117.551\n",
      "\n",
      "DECAYING learning rate.\n",
      "The new learning rate is 0.000656\n",
      "\n",
      "Epoch: [4][0/1346]\tBatch Time 0.093 (0.093)\tData Load Time 0.050 (0.050)\tLoss 0.7207 (0.7207)\tAccuracy 0.766 (0.766)\n",
      "Epoch: [4][100/1346]\tBatch Time 0.021 (0.020)\tData Load Time 0.001 (0.001)\tLoss 0.5065 (0.5284)\tAccuracy 0.859 (0.839)\n",
      "Epoch: [4][200/1346]\tBatch Time 0.020 (0.020)\tData Load Time 0.001 (0.001)\tLoss 0.6271 (0.5269)\tAccuracy 0.797 (0.839)\n",
      "Epoch: [4][300/1346]\tBatch Time 0.022 (0.020)\tData Load Time 0.001 (0.001)\tLoss 0.5001 (0.5322)\tAccuracy 0.828 (0.835)\n",
      "Epoch: [4][400/1346]\tBatch Time 0.018 (0.020)\tData Load Time 0.001 (0.001)\tLoss 0.4500 (0.5309)\tAccuracy 0.828 (0.835)\n",
      "Epoch: [4][500/1346]\tBatch Time 0.019 (0.020)\tData Load Time 0.001 (0.001)\tLoss 0.5029 (0.5257)\tAccuracy 0.844 (0.838)\n",
      "Epoch: [4][600/1346]\tBatch Time 0.018 (0.020)\tData Load Time 0.001 (0.001)\tLoss 0.4213 (0.5232)\tAccuracy 0.828 (0.838)\n",
      "Epoch: [4][700/1346]\tBatch Time 0.018 (0.019)\tData Load Time 0.001 (0.001)\tLoss 0.5386 (0.5243)\tAccuracy 0.844 (0.837)\n",
      "Epoch: [4][800/1346]\tBatch Time 0.019 (0.019)\tData Load Time 0.001 (0.001)\tLoss 0.5023 (0.5234)\tAccuracy 0.875 (0.837)\n"
     ]
    },
    {
     "name": "stdout",
     "output_type": "stream",
     "text": [
      "Epoch: [4][900/1346]\tBatch Time 0.019 (0.019)\tData Load Time 0.001 (0.001)\tLoss 0.6782 (0.5243)\tAccuracy 0.859 (0.836)\n",
      "Epoch: [4][1000/1346]\tBatch Time 0.019 (0.019)\tData Load Time 0.001 (0.001)\tLoss 0.4735 (0.5239)\tAccuracy 0.875 (0.837)\n",
      "Epoch: [4][1100/1346]\tBatch Time 0.019 (0.019)\tData Load Time 0.001 (0.001)\tLoss 0.5619 (0.5216)\tAccuracy 0.844 (0.838)\n",
      "Epoch: [4][1200/1346]\tBatch Time 0.018 (0.019)\tData Load Time 0.000 (0.001)\tLoss 0.6085 (0.5194)\tAccuracy 0.828 (0.839)\n",
      "Epoch: [4][1300/1346]\tBatch Time 0.019 (0.019)\tData Load Time 0.001 (0.001)\tLoss 0.3152 (0.5200)\tAccuracy 0.922 (0.839)\n",
      "Epoch: [4] finished, time consumed: 143.735\n",
      "\n",
      "DECAYING learning rate.\n",
      "The new learning rate is 0.000590\n",
      "\n",
      "Epoch: [5][0/1346]\tBatch Time 0.094 (0.094)\tData Load Time 0.054 (0.054)\tLoss 0.6069 (0.6069)\tAccuracy 0.844 (0.844)\n",
      "Epoch: [5][100/1346]\tBatch Time 0.024 (0.021)\tData Load Time 0.001 (0.001)\tLoss 0.5167 (0.5160)\tAccuracy 0.828 (0.843)\n",
      "Epoch: [5][200/1346]\tBatch Time 0.021 (0.021)\tData Load Time 0.001 (0.001)\tLoss 0.4354 (0.5101)\tAccuracy 0.812 (0.845)\n",
      "Epoch: [5][300/1346]\tBatch Time 0.019 (0.020)\tData Load Time 0.001 (0.001)\tLoss 0.5042 (0.5116)\tAccuracy 0.844 (0.843)\n",
      "Epoch: [5][400/1346]\tBatch Time 0.019 (0.020)\tData Load Time 0.001 (0.001)\tLoss 0.6025 (0.5102)\tAccuracy 0.812 (0.843)\n",
      "Epoch: [5][500/1346]\tBatch Time 0.019 (0.020)\tData Load Time 0.001 (0.001)\tLoss 0.5564 (0.5069)\tAccuracy 0.859 (0.844)\n",
      "Epoch: [5][600/1346]\tBatch Time 0.019 (0.020)\tData Load Time 0.001 (0.001)\tLoss 0.6283 (0.5074)\tAccuracy 0.797 (0.844)\n",
      "Epoch: [5][700/1346]\tBatch Time 0.020 (0.020)\tData Load Time 0.001 (0.001)\tLoss 0.6071 (0.5092)\tAccuracy 0.812 (0.843)\n",
      "Epoch: [5][800/1346]\tBatch Time 0.020 (0.020)\tData Load Time 0.001 (0.001)\tLoss 0.6491 (0.5113)\tAccuracy 0.797 (0.842)\n",
      "Epoch: [5][900/1346]\tBatch Time 0.019 (0.020)\tData Load Time 0.001 (0.001)\tLoss 0.5876 (0.5090)\tAccuracy 0.781 (0.843)\n",
      "Epoch: [5][1000/1346]\tBatch Time 0.022 (0.020)\tData Load Time 0.001 (0.001)\tLoss 0.5230 (0.5091)\tAccuracy 0.844 (0.843)\n",
      "Epoch: [5][1100/1346]\tBatch Time 0.020 (0.020)\tData Load Time 0.001 (0.001)\tLoss 0.4689 (0.5082)\tAccuracy 0.844 (0.843)\n",
      "Epoch: [5][1200/1346]\tBatch Time 0.019 (0.020)\tData Load Time 0.001 (0.001)\tLoss 0.4118 (0.5063)\tAccuracy 0.891 (0.843)\n",
      "Epoch: [5][1300/1346]\tBatch Time 0.022 (0.020)\tData Load Time 0.001 (0.001)\tLoss 0.4123 (0.5063)\tAccuracy 0.891 (0.843)\n",
      "Epoch: [5] finished, time consumed: 171.047\n",
      "\n",
      "DECAYING learning rate.\n",
      "The new learning rate is 0.000531\n",
      "\n",
      "Epoch: [6][0/1346]\tBatch Time 0.095 (0.095)\tData Load Time 0.056 (0.056)\tLoss 0.4780 (0.4780)\tAccuracy 0.859 (0.859)\n",
      "Epoch: [6][100/1346]\tBatch Time 0.023 (0.023)\tData Load Time 0.001 (0.001)\tLoss 0.3968 (0.4809)\tAccuracy 0.859 (0.852)\n",
      "Epoch: [6][200/1346]\tBatch Time 0.022 (0.023)\tData Load Time 0.001 (0.001)\tLoss 0.6724 (0.4986)\tAccuracy 0.766 (0.847)\n",
      "Epoch: [6][300/1346]\tBatch Time 0.024 (0.022)\tData Load Time 0.001 (0.001)\tLoss 0.6794 (0.4941)\tAccuracy 0.844 (0.847)\n",
      "Epoch: [6][400/1346]\tBatch Time 0.022 (0.022)\tData Load Time 0.001 (0.001)\tLoss 0.4221 (0.4964)\tAccuracy 0.828 (0.849)\n",
      "Epoch: [6][500/1346]\tBatch Time 0.023 (0.022)\tData Load Time 0.001 (0.001)\tLoss 0.5057 (0.4927)\tAccuracy 0.859 (0.851)\n",
      "Epoch: [6][600/1346]\tBatch Time 0.023 (0.023)\tData Load Time 0.001 (0.001)\tLoss 0.3983 (0.4954)\tAccuracy 0.906 (0.849)\n",
      "Epoch: [6][700/1346]\tBatch Time 0.024 (0.023)\tData Load Time 0.001 (0.001)\tLoss 0.5216 (0.4937)\tAccuracy 0.828 (0.849)\n",
      "Epoch: [6][800/1346]\tBatch Time 0.019 (0.023)\tData Load Time 0.001 (0.001)\tLoss 0.8380 (0.4939)\tAccuracy 0.734 (0.848)\n",
      "Epoch: [6][900/1346]\tBatch Time 0.023 (0.022)\tData Load Time 0.001 (0.001)\tLoss 0.3698 (0.4936)\tAccuracy 0.906 (0.848)\n",
      "Epoch: [6][1000/1346]\tBatch Time 0.021 (0.022)\tData Load Time 0.000 (0.001)\tLoss 0.5467 (0.4922)\tAccuracy 0.828 (0.848)\n",
      "Epoch: [6][1100/1346]\tBatch Time 0.021 (0.022)\tData Load Time 0.001 (0.001)\tLoss 0.5036 (0.4956)\tAccuracy 0.875 (0.846)\n",
      "Epoch: [6][1200/1346]\tBatch Time 0.025 (0.022)\tData Load Time 0.001 (0.001)\tLoss 0.3603 (0.4940)\tAccuracy 0.922 (0.847)\n",
      "Epoch: [6][1300/1346]\tBatch Time 0.023 (0.022)\tData Load Time 0.001 (0.001)\tLoss 0.5874 (0.4944)\tAccuracy 0.781 (0.847)\n",
      "Epoch: [6] finished, time consumed: 201.158\n",
      "\n",
      "DECAYING learning rate.\n",
      "The new learning rate is 0.000478\n",
      "\n",
      "Epoch: [7][0/1346]\tBatch Time 0.093 (0.093)\tData Load Time 0.051 (0.051)\tLoss 0.5363 (0.5363)\tAccuracy 0.859 (0.859)\n",
      "Epoch: [7][100/1346]\tBatch Time 0.021 (0.022)\tData Load Time 0.001 (0.001)\tLoss 0.2844 (0.4886)\tAccuracy 0.938 (0.850)\n",
      "Epoch: [7][200/1346]\tBatch Time 0.021 (0.022)\tData Load Time 0.001 (0.001)\tLoss 0.4535 (0.4896)\tAccuracy 0.844 (0.849)\n",
      "Epoch: [7][300/1346]\tBatch Time 0.020 (0.022)\tData Load Time 0.001 (0.001)\tLoss 0.4079 (0.4841)\tAccuracy 0.859 (0.849)\n",
      "Epoch: [7][400/1346]\tBatch Time 0.023 (0.022)\tData Load Time 0.001 (0.001)\tLoss 0.3661 (0.4838)\tAccuracy 0.875 (0.849)\n",
      "Epoch: [7][500/1346]\tBatch Time 0.019 (0.022)\tData Load Time 0.001 (0.001)\tLoss 0.2164 (0.4869)\tAccuracy 0.938 (0.849)\n",
      "Epoch: [7][600/1346]\tBatch Time 0.022 (0.022)\tData Load Time 0.001 (0.001)\tLoss 0.5307 (0.4835)\tAccuracy 0.828 (0.850)\n",
      "Epoch: [7][700/1346]\tBatch Time 0.023 (0.022)\tData Load Time 0.001 (0.001)\tLoss 0.6048 (0.4864)\tAccuracy 0.797 (0.849)\n",
      "Epoch: [7][800/1346]\tBatch Time 0.019 (0.022)\tData Load Time 0.001 (0.001)\tLoss 0.5682 (0.4882)\tAccuracy 0.828 (0.849)\n",
      "Epoch: [7][900/1346]\tBatch Time 0.019 (0.022)\tData Load Time 0.001 (0.001)\tLoss 0.3725 (0.4901)\tAccuracy 0.859 (0.848)\n",
      "Epoch: [7][1000/1346]\tBatch Time 0.021 (0.022)\tData Load Time 0.001 (0.001)\tLoss 0.5828 (0.4873)\tAccuracy 0.875 (0.849)\n",
      "Epoch: [7][1100/1346]\tBatch Time 0.019 (0.021)\tData Load Time 0.001 (0.001)\tLoss 0.4310 (0.4874)\tAccuracy 0.859 (0.849)\n",
      "Epoch: [7][1200/1346]\tBatch Time 0.020 (0.021)\tData Load Time 0.001 (0.001)\tLoss 0.4584 (0.4868)\tAccuracy 0.844 (0.849)\n",
      "Epoch: [7][1300/1346]\tBatch Time 0.021 (0.021)\tData Load Time 0.001 (0.001)\tLoss 0.4318 (0.4859)\tAccuracy 0.844 (0.850)\n",
      "Epoch: [7] finished, time consumed: 229.819\n",
      "\n",
      "DECAYING learning rate.\n",
      "The new learning rate is 0.000430\n",
      "\n",
      "Epoch: [8][0/1346]\tBatch Time 0.089 (0.089)\tData Load Time 0.050 (0.050)\tLoss 0.5383 (0.5383)\tAccuracy 0.812 (0.812)\n",
      "Epoch: [8][100/1346]\tBatch Time 0.020 (0.021)\tData Load Time 0.001 (0.001)\tLoss 0.3801 (0.4682)\tAccuracy 0.891 (0.855)\n",
      "Epoch: [8][200/1346]\tBatch Time 0.019 (0.020)\tData Load Time 0.001 (0.001)\tLoss 0.4878 (0.4777)\tAccuracy 0.875 (0.853)\n",
      "Epoch: [8][300/1346]\tBatch Time 0.023 (0.021)\tData Load Time 0.001 (0.001)\tLoss 0.4464 (0.4766)\tAccuracy 0.828 (0.852)\n",
      "Epoch: [8][400/1346]\tBatch Time 0.020 (0.021)\tData Load Time 0.001 (0.001)\tLoss 0.4625 (0.4776)\tAccuracy 0.844 (0.852)\n",
      "Epoch: [8][500/1346]\tBatch Time 0.028 (0.021)\tData Load Time 0.001 (0.001)\tLoss 0.3768 (0.4782)\tAccuracy 0.875 (0.852)\n",
      "Epoch: [8][600/1346]\tBatch Time 0.022 (0.022)\tData Load Time 0.001 (0.001)\tLoss 0.4339 (0.4804)\tAccuracy 0.859 (0.852)\n",
      "Epoch: [8][700/1346]\tBatch Time 0.022 (0.022)\tData Load Time 0.001 (0.001)\tLoss 0.5602 (0.4804)\tAccuracy 0.797 (0.852)\n",
      "Epoch: [8][800/1346]\tBatch Time 0.020 (0.022)\tData Load Time 0.001 (0.001)\tLoss 0.4983 (0.4799)\tAccuracy 0.828 (0.852)\n",
      "Epoch: [8][900/1346]\tBatch Time 0.020 (0.022)\tData Load Time 0.001 (0.001)\tLoss 0.3007 (0.4793)\tAccuracy 0.906 (0.852)\n",
      "Epoch: [8][1000/1346]\tBatch Time 0.023 (0.022)\tData Load Time 0.001 (0.001)\tLoss 0.7063 (0.4792)\tAccuracy 0.828 (0.852)\n",
      "Epoch: [8][1100/1346]\tBatch Time 0.023 (0.022)\tData Load Time 0.001 (0.001)\tLoss 0.3684 (0.4784)\tAccuracy 0.875 (0.853)\n",
      "Epoch: [8][1200/1346]\tBatch Time 0.022 (0.022)\tData Load Time 0.001 (0.001)\tLoss 0.4002 (0.4779)\tAccuracy 0.859 (0.853)\n",
      "Epoch: [8][1300/1346]\tBatch Time 0.023 (0.022)\tData Load Time 0.001 (0.001)\tLoss 0.3920 (0.4775)\tAccuracy 0.828 (0.852)\n",
      "Epoch: [8] finished, time consumed: 259.254\n",
      "\n",
      "DECAYING learning rate.\n",
      "The new learning rate is 0.000387\n",
      "\n",
      "Epoch: [9][0/1346]\tBatch Time 0.091 (0.091)\tData Load Time 0.053 (0.053)\tLoss 0.4188 (0.4188)\tAccuracy 0.859 (0.859)\n",
      "Epoch: [9][100/1346]\tBatch Time 0.021 (0.023)\tData Load Time 0.001 (0.001)\tLoss 0.6320 (0.4625)\tAccuracy 0.828 (0.862)\n",
      "Epoch: [9][200/1346]\tBatch Time 0.023 (0.023)\tData Load Time 0.001 (0.001)\tLoss 0.3918 (0.4609)\tAccuracy 0.875 (0.861)\n",
      "Epoch: [9][300/1346]\tBatch Time 0.021 (0.022)\tData Load Time 0.001 (0.001)\tLoss 0.9658 (0.4628)\tAccuracy 0.766 (0.859)\n"
     ]
    },
    {
     "name": "stdout",
     "output_type": "stream",
     "text": [
      "Epoch: [9][400/1346]\tBatch Time 0.019 (0.022)\tData Load Time 0.001 (0.001)\tLoss 0.5623 (0.4694)\tAccuracy 0.875 (0.856)\n",
      "Epoch: [9][500/1346]\tBatch Time 0.020 (0.021)\tData Load Time 0.001 (0.001)\tLoss 0.3214 (0.4706)\tAccuracy 0.922 (0.856)\n",
      "Epoch: [9][600/1346]\tBatch Time 0.022 (0.021)\tData Load Time 0.001 (0.001)\tLoss 0.6432 (0.4707)\tAccuracy 0.859 (0.855)\n",
      "Epoch: [9][700/1346]\tBatch Time 0.017 (0.021)\tData Load Time 0.000 (0.001)\tLoss 0.4560 (0.4709)\tAccuracy 0.859 (0.855)\n",
      "Epoch: [9][800/1346]\tBatch Time 0.019 (0.021)\tData Load Time 0.001 (0.001)\tLoss 0.4041 (0.4710)\tAccuracy 0.906 (0.855)\n",
      "Epoch: [9][900/1346]\tBatch Time 0.018 (0.020)\tData Load Time 0.001 (0.001)\tLoss 0.3171 (0.4694)\tAccuracy 0.891 (0.855)\n",
      "Epoch: [9][1000/1346]\tBatch Time 0.019 (0.020)\tData Load Time 0.001 (0.001)\tLoss 0.3626 (0.4705)\tAccuracy 0.891 (0.855)\n",
      "Epoch: [9][1100/1346]\tBatch Time 0.019 (0.020)\tData Load Time 0.001 (0.001)\tLoss 0.4384 (0.4711)\tAccuracy 0.891 (0.854)\n",
      "Epoch: [9][1200/1346]\tBatch Time 0.019 (0.020)\tData Load Time 0.001 (0.001)\tLoss 0.4059 (0.4711)\tAccuracy 0.906 (0.854)\n",
      "Epoch: [9][1300/1346]\tBatch Time 0.019 (0.020)\tData Load Time 0.001 (0.001)\tLoss 0.4569 (0.4707)\tAccuracy 0.828 (0.854)\n",
      "Epoch: [9] finished, time consumed: 286.656\n",
      "\n",
      "DECAYING learning rate.\n",
      "The new learning rate is 0.000349\n",
      "\n"
     ]
    }
   ],
   "source": [
    "trainer = set_trainer(config)\n",
    "trainer.run_train()"
   ]
  },
  {
   "cell_type": "markdown",
   "metadata": {},
   "source": [
    "## Loading Persisted Model"
   ]
  },
  {
   "cell_type": "code",
   "execution_count": 10,
   "metadata": {},
   "outputs": [
    {
     "data": {
      "text/plain": [
       "TextMLP(\n",
       "  (embeddings): Embedding(9562, 50)\n",
       "  (hidden_fc): Linear(in_features=50, out_features=10, bias=True)\n",
       "  (out_fc): Linear(in_features=10, out_features=4, bias=True)\n",
       ")"
      ]
     },
     "execution_count": 10,
     "metadata": {},
     "output_type": "execute_result"
    }
   ],
   "source": [
    "checkpoint_path = os.path.join(config.checkpoint_path, config.checkpoint_basename + '.pth.tar')\n",
    "model, model_name, optimizer, dataset_name, word_map, start_epoch = load_checkpoint(checkpoint_path, device)\n",
    "model = model.to(device)\n",
    "model.eval()  # Sets the module in evaluation mode."
   ]
  },
  {
   "cell_type": "markdown",
   "metadata": {},
   "source": [
    "## Evaluation on test.csv"
   ]
  },
  {
   "cell_type": "code",
   "execution_count": 11,
   "metadata": {},
   "outputs": [
    {
     "name": "stderr",
     "output_type": "stream",
     "text": [
      "Evaluating: 100%|██████████| 337/337 [00:00<00:00, 397.10it/s]\n"
     ]
    },
    {
     "name": "stdout",
     "output_type": "stream",
     "text": [
      "\n",
      "Test Accuracy - 83.6\n",
      "\n",
      "Confusion matrix:\n"
     ]
    },
    {
     "data": {
      "image/png": "[encoded data removed]",
      "text/plain": [
       "<Figure size 576x576 with 1 Axes>"
      ]
     },
     "metadata": {
      "needs_background": "light"
     },
     "output_type": "display_data"
    }
   ],
   "source": [
    "test_loader = load_data(config, \"test\")\n",
    "test(model, model_name, test_loader, dataset_name)"
   ]
  },
  {
   "cell_type": "markdown",
   "metadata": {},
   "source": [
    "## Error Analysis"
   ]
  },
  {
   "cell_type": "code",
   "execution_count": 16,
   "metadata": {},
   "outputs": [
    {
     "ename": "NameError",
     "evalue": "name 'get_label_map' is not defined",
     "output_type": "error",
     "traceback": [
      "\u001b[0;31m---------------------------------------------------------------------------\u001b[0m",
      "\u001b[0;31mNameError\u001b[0m                                 Traceback (most recent call last)",
      "\u001b[0;32m<ipython-input-16-bd2813522ecd>\u001b[0m in \u001b[0;36m<module>\u001b[0;34m\u001b[0m\n\u001b[1;32m      3\u001b[0m \u001b[0;34m\u001b[0m\u001b[0m\n\u001b[1;32m      4\u001b[0m \u001b[0mmodel\u001b[0m\u001b[0;34m,\u001b[0m \u001b[0mmodel_name\u001b[0m\u001b[0;34m,\u001b[0m \u001b[0moptimizer\u001b[0m\u001b[0;34m,\u001b[0m \u001b[0mdataset_name\u001b[0m\u001b[0;34m,\u001b[0m \u001b[0mword_map\u001b[0m\u001b[0;34m,\u001b[0m \u001b[0mstart_epoch\u001b[0m \u001b[0;34m=\u001b[0m \u001b[0mload_checkpoint\u001b[0m\u001b[0;34m(\u001b[0m\u001b[0mcheckpoint_path\u001b[0m\u001b[0;34m,\u001b[0m \u001b[0mdevice\u001b[0m\u001b[0;34m)\u001b[0m\u001b[0;34m\u001b[0m\u001b[0;34m\u001b[0m\u001b[0m\n\u001b[0;32m----> 5\u001b[0;31m \u001b[0m_\u001b[0m\u001b[0;34m,\u001b[0m \u001b[0mrev_label_map\u001b[0m \u001b[0;34m=\u001b[0m \u001b[0mget_label_map\u001b[0m\u001b[0;34m(\u001b[0m\u001b[0mdataset_name\u001b[0m\u001b[0;34m)\u001b[0m\u001b[0;34m\u001b[0m\u001b[0;34m\u001b[0m\u001b[0m\n\u001b[0m\u001b[1;32m      6\u001b[0m \u001b[0mtest_df\u001b[0m \u001b[0;34m=\u001b[0m \u001b[0mpd\u001b[0m\u001b[0;34m.\u001b[0m\u001b[0mread_csv\u001b[0m\u001b[0;34m(\u001b[0m\u001b[0mconfig\u001b[0m\u001b[0;34m.\u001b[0m\u001b[0mdataset_path\u001b[0m \u001b[0;34m+\u001b[0m \u001b[0;34m'/test.csv'\u001b[0m\u001b[0;34m)\u001b[0m\u001b[0;34m\u001b[0m\u001b[0;34m\u001b[0m\u001b[0m\n\u001b[1;32m      7\u001b[0m \u001b[0mwrong_prediction_df\u001b[0m \u001b[0;34m=\u001b[0m \u001b[0mpd\u001b[0m\u001b[0;34m.\u001b[0m\u001b[0mDataFrame\u001b[0m\u001b[0;34m(\u001b[0m\u001b[0;34m)\u001b[0m\u001b[0;34m\u001b[0m\u001b[0;34m\u001b[0m\u001b[0m\n",
      "\u001b[0;31mNameError\u001b[0m: name 'get_label_map' is not defined"
     ]
    }
   ],
   "source": [
    "import pandas as pd\n",
    "from collections import defaultdict\n",
    "\n",
    "model, model_name, optimizer, dataset_name, word_map, start_epoch = load_checkpoint(checkpoint_path, device)\n",
    "_, rev_label_map = get_label_map(dataset_name)\n",
    "test_df = pd.read_csv(config.dataset_path + '/test.csv')\n",
    "wrong_prediction_df = pd.DataFrame()\n",
    "catched = defaultdict(list)\n",
    "for iter, row in test_df.iterrows():\n",
    "    text = row['Text']\n",
    "    label = rev_label_map[row['Label']-1]\n",
    "    predicted_label, predicted_score = classify(\n",
    "        text, model, model_name, rev_label_map, word_map, word_limit)\n",
    "\n",
    "    if predicted_label != label:\n",
    "        catched['Text'].append(text)\n",
    "        catched['Gold_Label'].append(label)\n",
    "        catched['Predicted_Label'].append(predicted_label)\n",
    "\n",
    "        # print('\\n{}'.format(text))\n",
    "        # print('Gold label: {}'.format(label))\n",
    "        # print('Predicted label: {}'.format(predicted_label))\n",
    "\n",
    "for gold_label, predicted_label, text in zip(catched['Gold_Label'],\n",
    "                                             catched['Predicted_Label'],\n",
    "                                             catched['Text']):\n",
    "    print('{}\\t\\t{}\\t\\t{}'.format(gold_label, predicted_label, text))"
   ]
  },
  {
   "cell_type": "code",
   "execution_count": null,
   "metadata": {},
   "outputs": [],
   "source": []
  }
 ],
 "metadata": {
  "kernelspec": {
   "display_name": "Python 3",
   "language": "python",
   "name": "python3"
  },
  "language_info": {
   "codemirror_mode": {
    "name": "ipython",
    "version": 3
   },
   "file_extension": ".py",
   "mimetype": "text/x-python",
   "name": "python",
   "nbconvert_exporter": "python",
   "pygments_lexer": "ipython3",
   "version": "3.6.10"
  }
 },
 "nbformat": 4,
 "nbformat_minor": 4
}
